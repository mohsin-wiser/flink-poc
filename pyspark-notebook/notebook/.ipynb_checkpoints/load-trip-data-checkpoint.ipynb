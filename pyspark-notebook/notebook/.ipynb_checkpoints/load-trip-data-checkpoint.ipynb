{
 "cells": [
  {
   "cell_type": "code",
   "execution_count": 3,
   "id": "f846cb39-c7ec-4f1d-8eba-19bc87f947e7",
   "metadata": {},
   "outputs": [
    {
     "name": "stdout",
     "output_type": "stream",
     "text": [
      "Collecting psycopg2-binary\n",
      "  Downloading psycopg2_binary-2.9.5-cp310-cp310-manylinux_2_24_aarch64.whl (3.4 MB)\n",
      "\u001b[2K     \u001b[90m━━━━━━━━━━━━━━━━━━━━━━━━━━━━━━━━━━━━━━━━\u001b[0m \u001b[32m3.4/3.4 MB\u001b[0m \u001b[31m8.9 MB/s\u001b[0m eta \u001b[36m0:00:00\u001b[0ma \u001b[36m0:00:01\u001b[0m\n",
      "\u001b[?25hInstalling collected packages: psycopg2-binary\n",
      "Successfully installed psycopg2-binary-2.9.5\n"
     ]
    }
   ],
   "source": [
    "!python -m pip install psycopg2-binary"
   ]
  },
  {
   "cell_type": "code",
   "execution_count": 6,
   "id": "2d86a431-206b-4649-99ea-03aaa11ad9d0",
   "metadata": {},
   "outputs": [
    {
     "name": "stdout",
     "output_type": "stream",
     "text": [
      "Had problem connecting with error SCRAM authentication requires libpq version 10 or above\n",
      ".\n",
      "time was 0:00:00.019796\n"
     ]
    }
   ],
   "source": [
    "import psycopg2\n",
    "import csv\n",
    "from glob import glob\n",
    "from datetime import datetime\n",
    "\n",
    "\n",
    "def connect_postgres(host: str = 'postgres', user: str = 'postgres', pwd: str = 'postgres', port: int = 5432, db='trip'):\n",
    "    try:\n",
    "        conn = psycopg2.connect(f'postgresql://{user}:{pwd}@{host}:{port}/{db}')\n",
    "        return conn\n",
    "    except psycopg2.Error as e:\n",
    "        print(f'Had problem connecting with error {e}.')\n",
    "\n",
    "\n",
    "def pull_data_files(loc: str = './trip-data/Divvy_Trips_2017_Q3Q4/*Trips*.csv') -> list:\n",
    "    files = glob(loc)\n",
    "    return files\n",
    "\n",
    "\n",
    "def read_file(file: str) -> list:\n",
    "    with open(file) as csvfile:\n",
    "        reader = csv.reader(csvfile)\n",
    "        next(reader, None)\n",
    "        rows = [row for row in reader]\n",
    "    return rows\n",
    "\n",
    "\n",
    "def insert_rows(rows: list, conn: object) -> None:\n",
    "    cur = conn.cursor()\n",
    "    i = 0\n",
    "    for row in rows:\n",
    "        i = i + 1;\n",
    "        cur.execute(\"INSERT INTO trip_data VALUES (%s, %s, %s, %s, %s, %s, %s, %s, %s, %s, %s, %s)\",\n",
    "                    (row[0], row[1], row[2], row[3], row[4], row[5], row[6], row[7], row[8], row[9]\n",
    "                        , row[10], row[11]))\n",
    "        if not i % 10:\n",
    "            conn.commit()\n",
    "    conn.commit()\n",
    "\n",
    "\n",
    "if __name__ == '__main__':\n",
    "    t1 = datetime.now()\n",
    "    conn = connect_postgres()\n",
    "    files = pull_data_files()\n",
    "    for file in files:\n",
    "        print(f\"working on file {file}\")\n",
    "        rows = read_file(file)\n",
    "        insert_rows(rows, conn)\n",
    "        print(f\"finished with file {file}\")\n",
    "    # conn.close()\n",
    "    t2 = datetime.now()\n",
    "    x = t2 - t1\n",
    "    print(f\"time was {x}\")"
   ]
  },
  {
   "cell_type": "code",
   "execution_count": null,
   "id": "2f369a56-0bfe-4de9-8da3-7aac4b4557ff",
   "metadata": {},
   "outputs": [],
   "source": []
  }
 ],
 "metadata": {
  "kernelspec": {
   "display_name": "Python 3 (ipykernel)",
   "language": "python",
   "name": "python3"
  },
  "language_info": {
   "codemirror_mode": {
    "name": "ipython",
    "version": 3
   },
   "file_extension": ".py",
   "mimetype": "text/x-python",
   "name": "python",
   "nbconvert_exporter": "python",
   "pygments_lexer": "ipython3",
   "version": "3.10.8"
  }
 },
 "nbformat": 4,
 "nbformat_minor": 5
}
